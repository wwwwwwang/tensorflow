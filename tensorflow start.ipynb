{
 "cells": [
  {
   "cell_type": "code",
   "execution_count": 7,
   "metadata": {},
   "outputs": [
    {
     "name": "stdout",
     "output_type": "stream",
     "text": [
      "[1 2]\n",
      "0 [[0.03494644 0.5047303 ]] [0.39574778]\n",
      "20 [[0.08416567 0.2551389 ]] [0.27853072]\n",
      "40 [[0.10069078 0.21518058]] [0.29134092]\n",
      "60 [[0.1014125  0.20466353]] [0.2966869]\n",
      "80 [[0.10072443 0.20154771]] [0.29876137]\n",
      "100 [[0.10030229 0.20053814]] [0.2995419]\n",
      "120 [[0.1001173  0.20019193]] [0.29983145]\n",
      "140 [[0.10004416 0.20006938]] [0.2999381]\n",
      "160 [[0.10001639 0.20002526]] [0.2999773]\n",
      "180 [[0.10000604 0.20000921]] [0.2999917]\n",
      "200 [[0.10000222 0.20000337]] [0.29999697]\n"
     ]
    }
   ],
   "source": [
    "import tensorflow as tf\n",
    "import numpy as np\n",
    "\n",
    "# 使用 NumPy 生成假数据(phony data), 总共 100 个点.\n",
    "x_data = np.float32(np.random.rand(2, 100)) # 随机输入\n",
    "y_data = np.dot([0.100, 0.200], x_data) + 0.300\n",
    "\n",
    "# 构造一个线性模型\n",
    "# \n",
    "b = tf.Variable(tf.zeros([1]))\n",
    "W = tf.Variable(tf.random_uniform([1, 2], -1.0, 1.0))\n",
    "y = tf.matmul(W, x_data) + b\n",
    "\n",
    "\n",
    "# 最小化方差\n",
    "loss = tf.reduce_mean(tf.square(y - y_data))\n",
    "optimizer = tf.train.GradientDescentOptimizer(0.5)\n",
    "train = optimizer.minimize(loss)\n",
    "\n",
    "# 初始化变量\n",
    "init = tf.global_variables_initializer()\n",
    "\n",
    "# 启动图 (graph)\n",
    "sess = tf.Session()\n",
    "sess.run(init)\n",
    "print(sess.run(tf.shape(W)))\n",
    "# 拟合平面\n",
    "for step in range(0, 201):\n",
    "    sess.run(train)\n",
    "    if step % 20 == 0:\n",
    "        print(step, sess.run(W), sess.run(b))"
   ]
  },
  {
   "cell_type": "code",
   "execution_count": 2,
   "metadata": {},
   "outputs": [
    {
     "name": "stdout",
     "output_type": "stream",
     "text": [
      "Help on package tensorflow:\n",
      "\n",
      "NAME\n",
      "    tensorflow\n",
      "\n",
      "DESCRIPTION\n",
      "    # Copyright 2015 The TensorFlow Authors. All Rights Reserved.\n",
      "    #\n",
      "    # Licensed under the Apache License, Version 2.0 (the \"License\");\n",
      "    # you may not use this file except in compliance with the License.\n",
      "    # You may obtain a copy of the License at\n",
      "    #\n",
      "    #     http://www.apache.org/licenses/LICENSE-2.0\n",
      "    #\n",
      "    # Unless required by applicable law or agreed to in writing, software\n",
      "    # distributed under the License is distributed on an \"AS IS\" BASIS,\n",
      "    # WITHOUT WARRANTIES OR CONDITIONS OF ANY KIND, either express or implied.\n",
      "    # See the License for the specific language governing permissions and\n",
      "    # limitations under the License.\n",
      "    # ==============================================================================\n",
      "\n",
      "PACKAGE CONTENTS\n",
      "    contrib (package)\n",
      "    core (package)\n",
      "    examples (package)\n",
      "    python (package)\n",
      "    tensorboard (package)\n",
      "\n",
      "SUBMODULES\n",
      "    app\n",
      "    compat\n",
      "    errors\n",
      "    estimator\n",
      "    feature_column\n",
      "    flags\n",
      "    gfile\n",
      "    graph_util\n",
      "    image\n",
      "    layers\n",
      "    logging\n",
      "    losses\n",
      "    metrics\n",
      "    nn\n",
      "    python_io\n",
      "    pywrap_tensorflow\n",
      "    resource_loader\n",
      "    saved_model\n",
      "    sets\n",
      "    spectral\n",
      "    summary\n",
      "    sysconfig\n",
      "    test\n",
      "    train\n",
      "    user_ops\n",
      "\n",
      "DATA\n",
      "    COMPILER_VERSION = 'MSVC'\n",
      "    GIT_VERSION = \"b'unknown'\"\n",
      "    GRAPH_DEF_VERSION = 22\n",
      "    GRAPH_DEF_VERSION_MIN_CONSUMER = 0\n",
      "    GRAPH_DEF_VERSION_MIN_PRODUCER = 0\n",
      "    QUANTIZED_DTYPES = frozenset({tf.qint8, tf.quint8, tf.qint32, tf.qint1...\n",
      "    VERSION = '1.2.1'\n",
      "    __compiler_version__ = 'MSVC'\n",
      "    __git_version__ = \"b'unknown'\"\n",
      "    bfloat16 = tf.bfloat16\n",
      "    bool = tf.bool\n",
      "    complex128 = tf.complex128\n",
      "    complex64 = tf.complex64\n",
      "    double = tf.float64\n",
      "    float16 = tf.float16\n",
      "    float32 = tf.float32\n",
      "    float64 = tf.float64\n",
      "    half = tf.float16\n",
      "    int16 = tf.int16\n",
      "    int32 = tf.int32\n",
      "    int64 = tf.int64\n",
      "    int8 = tf.int8\n",
      "    newaxis = None\n",
      "    qint16 = tf.qint16\n",
      "    qint32 = tf.qint32\n",
      "    qint8 = tf.qint8\n",
      "    quint16 = tf.quint16\n",
      "    quint8 = tf.quint8\n",
      "    resource = tf.resource\n",
      "    string = tf.string\n",
      "    uint16 = tf.uint16\n",
      "    uint8 = tf.uint8\n",
      "\n",
      "VERSION\n",
      "    1.2.1\n",
      "\n",
      "FILE\n",
      "    d:\\users\\madhouse\\anaconda3\\lib\\site-packages\\tensorflow\\__init__.py\n",
      "\n",
      "\n",
      "None\n"
     ]
    }
   ],
   "source": [
    "print(help(tf))"
   ]
  },
  {
   "cell_type": "code",
   "execution_count": 3,
   "metadata": {},
   "outputs": [
    {
     "name": "stdout",
     "output_type": "stream",
     "text": [
      "[[12.]]\n"
     ]
    }
   ],
   "source": [
    "matrix1 = tf.constant([[3., 3.]])\n",
    "\n",
    "matrix2 = tf.constant([[2.],[2.]])\n",
    "\n",
    "product = tf.matmul(matrix1, matrix2)\n",
    "\n",
    "result = sess.run(product)\n",
    "print(result)"
   ]
  },
  {
   "cell_type": "code",
   "execution_count": 6,
   "metadata": {},
   "outputs": [
    {
     "name": "stdout",
     "output_type": "stream",
     "text": [
      "[array([[12.]], dtype=float32)]\n"
     ]
    }
   ],
   "source": [
    "with tf.Session() as se:\n",
    "    result = se.run([product])\n",
    "    print(result)"
   ]
  },
  {
   "cell_type": "code",
   "execution_count": 7,
   "metadata": {},
   "outputs": [
    {
     "name": "stdout",
     "output_type": "stream",
     "text": [
      "[array([[12.]], dtype=float32)]\n"
     ]
    }
   ],
   "source": [
    "with tf.Session() as s:\n",
    "    #with tf.device(\"/cpu:1\"):\n",
    "    m1 = tf.constant([[3., 3.]])\n",
    "    m2 = tf.constant([[2.],[2.]])\n",
    "    p = tf.matmul(m1, m2)\n",
    "    r = s.run([p])\n",
    "    print(r)"
   ]
  },
  {
   "cell_type": "code",
   "execution_count": 3,
   "metadata": {},
   "outputs": [
    {
     "name": "stdout",
     "output_type": "stream",
     "text": [
      "['/cpu:0']\n"
     ]
    }
   ],
   "source": [
    "from tensorflow.python.client import device_lib\n",
    "\n",
    "devices = device_lib.list_local_devices()\n",
    "\n",
    "names = [x.name for x in devices]\n",
    "\n",
    "print(names)"
   ]
  },
  {
   "cell_type": "code",
   "execution_count": 2,
   "metadata": {},
   "outputs": [
    {
     "data": {
      "text/plain": [
       "[]"
      ]
     },
     "execution_count": 2,
     "metadata": {},
     "output_type": "execute_result"
    }
   ],
   "source": [
    "from tensorflow.python.client import device_lib\n",
    "\n",
    "def get_available_gpus():\n",
    "    local_device_protos = device_lib.list_local_devices()\n",
    "    return [x.name for x in local_device_protos if x.device_type == 'GPU']\n",
    "\n",
    "get_available_gpus()"
   ]
  },
  {
   "cell_type": "code",
   "execution_count": 21,
   "metadata": {},
   "outputs": [
    {
     "name": "stdout",
     "output_type": "stream",
     "text": [
      "start...\n",
      "D:\\Users\\Madhouse\\tensorflow\\download\\cifar-10-python.tar.gz is exist!!\n",
      "cifar-10-python.tar.gz has been extracted!!\n",
      "end...\n"
     ]
    }
   ],
   "source": [
    "import os\n",
    "import sys\n",
    "from six.moves import urllib\n",
    "import tarfile\n",
    "URL='http://www.cs.toronto.edu/~kriz/cifar-10-python.tar.gz'\n",
    "dir_name='cifar-10-batches-py'\n",
    "data_dir='D:\\\\Users\\\\Madhouse\\\\tensorflow\\\\download'\n",
    "\n",
    "def download_and_extract():\n",
    "    dest_directory=data_dir\n",
    "    if not os.path.exists(dest_directory):\n",
    "        os.makedirs(dest_directory)\n",
    "    filename = URL.split('/')[-1]\n",
    "    filepath = os.path.join(dest_directory, filename)\n",
    "    if not os.path.exists(filepath):\n",
    "        print('%s is not exist, ready to download %s from website'%(filepath, filename))\n",
    "        def _callback(blockcount, blocksize, totalsize):\n",
    "            sys.stdout.write('\\r >> Downloading %s %.2f%%'%(filename,\n",
    "                blockcount*blocksize/float(totalsize)*100.0))\n",
    "            sys.stdout.flush()\n",
    "        downloaddata = urllib.request.urlretrieve(URL, filepath, _callback)\n",
    "        print()\n",
    "        statinfo = os.stat(downloaddata[0])\n",
    "        print('Successfully downloaded', filename, statinfo.st_size, 'bytes.')\n",
    "    else:\n",
    "        print('%s is exist!!'%filepath)\n",
    "    extract_path = os.path.join(dest_directory, dir_name)\n",
    "    if not os.path.exists(extract_path):\n",
    "        print('%s is extracting!!'%filename)\n",
    "        tarfile.open(filepath, 'r:gz').extractall(dest_directory)\n",
    "        print('extracting end!!')\n",
    "    else:\n",
    "        print('%s has been extracted!!'%filename)\n",
    "\n",
    "print('start...')\n",
    "download_and_extract()\n",
    "print('end...')"
   ]
  }
 ],
 "metadata": {
  "kernelspec": {
   "display_name": "Python 3",
   "language": "python",
   "name": "python3"
  },
  "language_info": {
   "codemirror_mode": {
    "name": "ipython",
    "version": 3
   },
   "file_extension": ".py",
   "mimetype": "text/x-python",
   "name": "python",
   "nbconvert_exporter": "python",
   "pygments_lexer": "ipython3",
   "version": "3.6.4"
  }
 },
 "nbformat": 4,
 "nbformat_minor": 2
}
