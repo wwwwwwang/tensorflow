{
 "cells": [
  {
   "cell_type": "code",
   "execution_count": 31,
   "metadata": {},
   "outputs": [
    {
     "name": "stdout",
     "output_type": "stream",
     "text": [
      "0\n",
      "[2018-05-14 18:14:13.908] 1\n",
      "[2018-05-14 18:14:13.909] 2\n",
      "[2018-05-14 18:14:13.909] 3\n",
      "[2018-05-14 18:14:13.909] 4\n",
      "[2018-05-14 18:14:13.910] 5\n"
     ]
    }
   ],
   "source": [
    "import tensorflow as tf\n",
    "import time\n",
    "state = tf.Variable(0, name=\"counter\")\n",
    "\n",
    "def getTime():\n",
    "    #now = time.strftime('%Y-%m-%d %H:%M:%S',time.localtime())\n",
    "    ct = time.time()\n",
    "    local_time = time.localtime(ct)\n",
    "    data_head = time.strftime(\"%Y-%m-%d %H:%M:%S\", local_time)\n",
    "    data_secs = str(ct)[11:14]\n",
    "    #print(\"cd=%s,secs=%s\"%(ct,data_secs))\n",
    "    time_stamp = \"%s.%s\" % (data_head, data_secs)\n",
    "    return time_stamp\n",
    "\n",
    "one = tf.constant(1)\n",
    "new_value = tf.add(state, one)\n",
    "update = tf.assign(state, new_value)\n",
    "\n",
    "init_op = tf.global_variables_initializer()\n",
    "\n",
    "with tf.Session() as se:\n",
    "    se.run(init_op)\n",
    "    print(se.run(state))\n",
    "    for _ in range(5):\n",
    "        se.run(update)\n",
    "        tt = getTime()\n",
    "        print(\"[%s] %d\"%(tt, se.run(state)))"
   ]
  },
  {
   "cell_type": "code",
   "execution_count": 2,
   "metadata": {},
   "outputs": [
    {
     "name": "stdout",
     "output_type": "stream",
     "text": [
      "[21.0, 7.0]\n"
     ]
    }
   ],
   "source": [
    "input1 = tf.constant(3.0)\n",
    "input2 = tf.constant(2.0)\n",
    "input3 = tf.constant(5.0)\n",
    "\n",
    "intermed = tf.add(input2, input3)\n",
    "mul = tf.multiply(input1, intermed)\n",
    "\n",
    "with tf.Session() as se:\n",
    "    result = se.run([mul, intermed])\n",
    "    print(result)"
   ]
  },
  {
   "cell_type": "code",
   "execution_count": 10,
   "metadata": {},
   "outputs": [
    {
     "name": "stdout",
     "output_type": "stream",
     "text": [
      "[array([14.], dtype=float32)]\n"
     ]
    }
   ],
   "source": [
    "in1 = tf.placeholder(tf.float32)\n",
    "in2 = tf.placeholder(tf.float32)\n",
    "output = tf.multiply(in1, in2)\n",
    "\n",
    "with tf.Session() as se:\n",
    "    print(se.run([output], feed_dict={in1:[7.], in2:[2.]}))"
   ]
  },
  {
   "cell_type": "code",
   "execution_count": 2,
   "metadata": {},
   "outputs": [
    {
     "name": "stdout",
     "output_type": "stream",
     "text": [
      "[ 4  7 10 13 16 19 22 25 28 31]\n",
      "[ 7 19 31]\n"
     ]
    }
   ],
   "source": [
    "import tensorflow as tf\n",
    "\n",
    "temp = tf.range(1,11)*3 + tf.constant(1,shape=[10])\n",
    "temp2 = tf.gather(temp,[1,5,9])\n",
    "\n",
    "with tf.Session() as sess:\n",
    "\n",
    "    print(sess.run(temp))\n",
    "    print(sess.run(temp2))"
   ]
  }
 ],
 "metadata": {
  "kernelspec": {
   "display_name": "Python 3",
   "language": "python",
   "name": "python3"
  },
  "language_info": {
   "codemirror_mode": {
    "name": "ipython",
    "version": 3
   },
   "file_extension": ".py",
   "mimetype": "text/x-python",
   "name": "python",
   "nbconvert_exporter": "python",
   "pygments_lexer": "ipython3",
   "version": "3.6.4"
  }
 },
 "nbformat": 4,
 "nbformat_minor": 2
}
